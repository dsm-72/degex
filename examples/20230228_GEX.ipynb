{
 "cells": [
  {
   "attachments": {},
   "cell_type": "markdown",
   "metadata": {},
   "source": [
    "### Preprocessing scmultiome data from Curtis Boswell.\n",
    "Analysis of single nuclear expression data only.\n",
    "\n",
    "Modeling vertebrate organogenesis in zebrafish across 3 timepoints (12hr, 18hr, 24hr).\n",
    "\n",
    "Matched ATAC data is available for each cell.\n",
    "\n",
    "Aim: map transcription factor activation controlling lineage differentiation during vertebrate orgnogenesis."
   ]
  },
  {
   "cell_type": "code",
   "execution_count": 4,
   "metadata": {},
   "outputs": [],
   "source": [
    "import os\n",
    "from degex.preprocessing import (\n",
    "    prepare_h5ad_file,\n",
    "    filter_pipeline,\n",
    "    normalization_pipeline,\n",
    "    embedding_pipeline,\n",
    ")"
   ]
  },
  {
   "cell_type": "code",
   "execution_count": 5,
   "metadata": {},
   "outputs": [],
   "source": [
    "from degex.types import OBS_BATCH"
   ]
  },
  {
   "cell_type": "code",
   "execution_count": 6,
   "metadata": {},
   "outputs": [],
   "source": [
    "DATA_DIR = os.path.abspath('../data')\n",
    "def make_filename(hr:str, data_dir:str=DATA_DIR):\n",
    "    rootname = 'scmultiome_121824_seq2'\n",
    "    return os.path.join(\n",
    "        data_dir, \n",
    "        f'{rootname}_{hr}_cr200_run1',\n",
    "        'filtered_feature_bc_matrix.h5'\n",
    "    )\n",
    "\n",
    "f1 = make_filename('12h')\n",
    "f2 = make_filename('18h')\n",
    "f3 = make_filename('24h')"
   ]
  },
  {
   "cell_type": "code",
   "execution_count": 7,
   "metadata": {},
   "outputs": [
    {
     "name": "stderr",
     "output_type": "stream",
     "text": [
      "/Users/sumner/miniforge3/envs/spot-mark-gene/lib/python3.10/site-packages/anndata/_core/anndata.py:1830: UserWarning: Variable names are not unique. To make them unique, call `.var_names_make_unique`.\n",
      "  utils.warn_names_duplicates(\"var\")\n",
      "/Users/sumner/miniforge3/envs/spot-mark-gene/lib/python3.10/site-packages/anndata/_core/anndata.py:1830: UserWarning: Variable names are not unique. To make them unique, call `.var_names_make_unique`.\n",
      "  utils.warn_names_duplicates(\"var\")\n"
     ]
    },
    {
     "name": "stdout",
     "output_type": "stream",
     "text": [
      "Preprocessing...\n",
      "Simulating doublets...\n",
      "Embedding transcriptomes using PCA...\n",
      "Calculating doublet scores...\n",
      "Automatically set threshold at doublet score = 0.62\n",
      "Detected doublet rate = 0.3%\n",
      "Estimated detectable doublet fraction = 3.8%\n",
      "Overall doublet rate:\n",
      "\tExpected   = 10.0%\n",
      "\tEstimated  = 8.2%\n",
      "Elapsed time: 2.4 seconds\n"
     ]
    },
    {
     "name": "stderr",
     "output_type": "stream",
     "text": [
      "/Users/sumner/miniforge3/envs/spot-mark-gene/lib/python3.10/site-packages/anndata/_core/anndata.py:1830: UserWarning: Variable names are not unique. To make them unique, call `.var_names_make_unique`.\n",
      "  utils.warn_names_duplicates(\"var\")\n",
      "/Users/sumner/miniforge3/envs/spot-mark-gene/lib/python3.10/site-packages/anndata/_core/anndata.py:1830: UserWarning: Variable names are not unique. To make them unique, call `.var_names_make_unique`.\n",
      "  utils.warn_names_duplicates(\"var\")\n"
     ]
    },
    {
     "name": "stdout",
     "output_type": "stream",
     "text": [
      "Preprocessing...\n",
      "Simulating doublets...\n",
      "Embedding transcriptomes using PCA...\n",
      "Calculating doublet scores...\n",
      "Automatically set threshold at doublet score = 0.60\n",
      "Detected doublet rate = 0.6%\n",
      "Estimated detectable doublet fraction = 6.4%\n",
      "Overall doublet rate:\n",
      "\tExpected   = 10.0%\n",
      "\tEstimated  = 8.8%\n",
      "Elapsed time: 7.8 seconds\n"
     ]
    },
    {
     "name": "stderr",
     "output_type": "stream",
     "text": [
      "/Users/sumner/miniforge3/envs/spot-mark-gene/lib/python3.10/site-packages/anndata/_core/anndata.py:1830: UserWarning: Variable names are not unique. To make them unique, call `.var_names_make_unique`.\n",
      "  utils.warn_names_duplicates(\"var\")\n",
      "/Users/sumner/miniforge3/envs/spot-mark-gene/lib/python3.10/site-packages/anndata/_core/anndata.py:1830: UserWarning: Variable names are not unique. To make them unique, call `.var_names_make_unique`.\n",
      "  utils.warn_names_duplicates(\"var\")\n"
     ]
    },
    {
     "name": "stdout",
     "output_type": "stream",
     "text": [
      "Preprocessing...\n",
      "Simulating doublets...\n",
      "Embedding transcriptomes using PCA...\n",
      "Calculating doublet scores...\n",
      "Automatically set threshold at doublet score = 0.59\n",
      "Detected doublet rate = 0.7%\n",
      "Estimated detectable doublet fraction = 6.5%\n",
      "Overall doublet rate:\n",
      "\tExpected   = 10.0%\n",
      "\tEstimated  = 11.4%\n",
      "Elapsed time: 8.4 seconds\n"
     ]
    }
   ],
   "source": [
    "sdata1 = prepare_h5ad_file(f1, plot=False)\n",
    "sdata2 = prepare_h5ad_file(f2, plot=False)\n",
    "sdata3 = prepare_h5ad_file(f3, plot=False)"
   ]
  },
  {
   "cell_type": "code",
   "execution_count": 8,
   "metadata": {},
   "outputs": [],
   "source": [
    "from spot_mark_gene.adata import (\n",
    "    combine_timepoints\n",
    ") "
   ]
  },
  {
   "cell_type": "code",
   "execution_count": 9,
   "metadata": {},
   "outputs": [],
   "source": [
    "adata = combine_timepoints(\n",
    "    sdata1, sdata2, sdata3, \n",
    "    idx_to_time={'0': '12hr', '1': '18hr', '2': '24hr'}\n",
    ")"
   ]
  },
  {
   "cell_type": "code",
   "execution_count": null,
   "metadata": {},
   "outputs": [],
   "source": []
  }
 ],
 "metadata": {
  "kernelspec": {
   "display_name": "spot-mark-gene",
   "language": "python",
   "name": "python3"
  },
  "language_info": {
   "codemirror_mode": {
    "name": "ipython",
    "version": 3
   },
   "file_extension": ".py",
   "mimetype": "text/x-python",
   "name": "python",
   "nbconvert_exporter": "python",
   "pygments_lexer": "ipython3",
   "version": "3.10.9"
  },
  "orig_nbformat": 4,
  "vscode": {
   "interpreter": {
    "hash": "18a90e6f3a11555e6c8097d6dac572760267f600ef701693a0fd1ce4d467088f"
   }
  }
 },
 "nbformat": 4,
 "nbformat_minor": 2
}
