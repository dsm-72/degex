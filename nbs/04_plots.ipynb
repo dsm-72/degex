{
 "cells": [
  {
   "attachments": {},
   "cell_type": "markdown",
   "metadata": {},
   "source": [
    "# Plots\n",
    "\n",
    "> Plotting functionality"
   ]
  },
  {
   "cell_type": "code",
   "execution_count": null,
   "metadata": {},
   "outputs": [],
   "source": [
    "#| default_exp plots"
   ]
  },
  {
   "cell_type": "code",
   "execution_count": null,
   "metadata": {},
   "outputs": [],
   "source": [
    "#| hide\n",
    "from nbdev.showdoc import *"
   ]
  },
  {
   "cell_type": "code",
   "execution_count": null,
   "metadata": {},
   "outputs": [],
   "source": [
    "#| export\n",
    "# NOTE: needed for python 3.10 forward compatibility with scanpy as \n",
    "# scanpy uses Iterable which is deprecated in 3.10\n",
    "import collections.abc\n",
    "#hyper needs the four following aliases to be done manually.\n",
    "collections.Iterable = collections.abc.Iterable\n",
    "collections.Mapping = collections.abc.Mapping\n",
    "collections.MutableSet = collections.abc.MutableSet\n",
    "collections.MutableMapping = collections.abc.MutableMapping"
   ]
  },
  {
   "cell_type": "code",
   "execution_count": null,
   "metadata": {},
   "outputs": [],
   "source": [
    "from spot_mark_gene.types import (\n",
    "    AnnData, AnnDatas, Graph, SeriesLike,\n",
    "    VAR_HUMAN_TF, VAR_MOUSE_TF,\n",
    "    VAR_HUMAN_ENSEMBLE_ID, VAR_MOUSE_ENSEMBLE_ID,\n",
    "    LAYER_PRENORM, LAYER_DETECTED,\n",
    "    LAYER_SCALED_NORMALIZED, EMB_MAGIC,\n",
    "    EMB_PCA, EMB_PCA_HVG,\n",
    "    EMB_PHATE, EMB_PHATE_HVG,\n",
    "    CUTOFF_KIND, CUTOFF_SHORTHAND_TO_OBS_KEYS,\n",
    "    CutoffSpecification, CutoffSpecifications,\n",
    "    VAR_GENE_SYMBOL, VAR_GENE_IDS,\n",
    "    OBS_DOUBLET_SCORES, OBS_PREDICTED_DOUBLETS,\n",
    "    VAR_MITO\n",
    ")"
   ]
  },
  {
   "cell_type": "code",
   "execution_count": null,
   "metadata": {},
   "outputs": [],
   "source": [
    "#| export\n",
    "import os\n",
    "import copy\n",
    "\n",
    "from typing import TypeAlias, List, Sequence, Tuple\n",
    "\n",
    "import anndata as ad\n",
    "import numpy as np\n",
    "import pandas as pd\n",
    "import scanpy as sc\n",
    "import scrublet as scr\n",
    "import scipy\n",
    "import graphtools as gt\n",
    "import phate\n",
    "import magic"
   ]
  },
  {
   "cell_type": "code",
   "execution_count": null,
   "metadata": {},
   "outputs": [],
   "source": [
    "#| export\n",
    "def plot_library_size(adata:AnnData, lower:float, upper:float):\n",
    "    sc.plot.plot_library_size(\n",
    "        adata.X, log=False, \n",
    "        title='Library Size', \n",
    "        cutoff=(lower, upper)\n",
    "    )"
   ]
  },
  {
   "cell_type": "code",
   "execution_count": null,
   "metadata": {},
   "outputs": [],
   "source": [
    "#| export \n",
    "from spot_mark_gene.utils import (\n",
    "    make_qc_fig_filename\n",
    ")\n",
    "\n",
    "def make_qc_figs(\n",
    "    adata:AnnData,\n",
    "    save_dir:str,\n",
    "    study_name:str,\n",
    ") -> None:\n",
    "    x = 'log10_total_counts'\n",
    "    y = 'n_genes_by_counts'    \n",
    "    sc.pl.scatter(\n",
    "        adata, x=x, y=y, color=\"pct_counts_mito\", \n",
    "        save=make_qc_fig_filename(\n",
    "            save_dir, study_name, x, y, 'mitopct'\n",
    "        )        \n",
    "    )\n",
    "    sc.pl.scatter(\n",
    "        adata, x=x, y=y, color=\"pct_counts_ribo\", \n",
    "        save=make_qc_fig_filename(\n",
    "            save_dir, study_name, x, y, 'ribopcg'\n",
    "        )\n",
    "    )\n",
    "    x = 'total_counts'\n",
    "    sc.pl.scatter(\n",
    "        adata, x=x, y=y, color=\"pct_counts_mito\",\n",
    "        save=make_qc_fig_filename(\n",
    "            save_dir, study_name, x, y, 'mitopct'\n",
    "        ) \n",
    "    )\n",
    "    sc.pl.scatter(\n",
    "        adata, x=x, y=y, color=\"pct_counts_ribo\", \n",
    "        save=make_qc_fig_filename(\n",
    "            save_dir, study_name, x, y, 'ribopcg'\n",
    "        )\n",
    "    )\n",
    "    sc.pl.scatter(\n",
    "        adata, x=x, y=y,         \n",
    "        color=\"pct_counts_in_top_50_genes\", \n",
    "        save=make_qc_fig_filename(\n",
    "            save_dir, study_name, x, y, 'top50pct'\n",
    "        )\n",
    "    )\n",
    "\n",
    "    x = 'pct_counts_mito'\n",
    "    y = 'pct_counts_in_top_50_genes'\n",
    "    sc.pl.scatter(\n",
    "        adata, x=x, y=y, \n",
    "        color=\"n_genes_by_counts\", \n",
    "        save=make_qc_fig_filename(\n",
    "            save_dir, study_name, x, y, 'ngenes'\n",
    "        )\n",
    "    )\n",
    "    x = 'pct_counts_ribo'\n",
    "    sc.pl.scatter(\n",
    "        adata, x=x, y=y,\n",
    "        color=\"n_genes_by_counts\", \n",
    "        save=make_qc_fig_filename(\n",
    "            save_dir, study_name, x, y, 'ngenes'\n",
    "        )\n",
    "    )\n",
    "    sc.pl.scatter(\n",
    "        adata, x=x, y=y,        \n",
    "        color=\"pct_counts_mito\", \n",
    "        save=make_qc_fig_filename(\n",
    "            save_dir, study_name, x, y, 'ngenes'\n",
    "        )\n",
    "    )"
   ]
  },
  {
   "cell_type": "code",
   "execution_count": null,
   "metadata": {},
   "outputs": [],
   "source": []
  },
  {
   "cell_type": "code",
   "execution_count": null,
   "metadata": {},
   "outputs": [],
   "source": [
    "#| hide\n",
    "import nbdev; nbdev.nbdev_export()"
   ]
  }
 ],
 "metadata": {
  "kernelspec": {
   "display_name": "python3",
   "language": "python",
   "name": "python3"
  }
 },
 "nbformat": 4,
 "nbformat_minor": 4
}
