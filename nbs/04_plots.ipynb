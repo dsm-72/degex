{
 "cells": [
  {
   "attachments": {},
   "cell_type": "markdown",
   "metadata": {},
   "source": [
    "# Plots\n",
    "\n",
    "> Plotting functionality"
   ]
  },
  {
   "cell_type": "code",
   "execution_count": null,
   "metadata": {},
   "outputs": [],
   "source": [
    "#| default_exp plots"
   ]
  },
  {
   "cell_type": "code",
   "execution_count": null,
   "metadata": {},
   "outputs": [],
   "source": [
    "#| hide\n",
    "from nbdev.showdoc import *"
   ]
  },
  {
   "cell_type": "code",
   "execution_count": null,
   "metadata": {},
   "outputs": [],
   "source": [
    "#| export\n",
    "# NOTE: needed for python 3.10 forward compatibility with scanpy as \n",
    "# scanpy uses Iterable which is deprecated in 3.10\n",
    "import collections.abc\n",
    "#hyper needs the four following aliases to be done manually.\n",
    "collections.Iterable = collections.abc.Iterable\n",
    "collections.Mapping = collections.abc.Mapping\n",
    "collections.MutableSet = collections.abc.MutableSet\n",
    "collections.MutableMapping = collections.abc.MutableMapping"
   ]
  },
  {
   "cell_type": "code",
   "execution_count": null,
   "metadata": {},
   "outputs": [],
   "source": [
    "#| export\n",
    "import os\n",
    "import scanpy as sc"
   ]
  },
  {
   "cell_type": "code",
   "execution_count": null,
   "metadata": {},
   "outputs": [],
   "source": [
    "#| export\n",
    "from degex.static import (\n",
    "    TOTAL_COUNTS, PCT_COUNTS_MITO, PCT_COUNTS_RIBO,\n",
    ")\n",
    "from degex.types import (AnnData, )\n",
    "from degex.utils import (make_qc_fig_filename)"
   ]
  },
  {
   "cell_type": "code",
   "execution_count": null,
   "metadata": {},
   "outputs": [],
   "source": [
    "#| export\n",
    "def plot_library_size(adata: AnnData, lower: float, upper: float):\n",
    "    sc.plot.plot_library_size(\n",
    "        adata.X, log=False, \n",
    "        title='Library Size', \n",
    "        cutoff=(lower, upper)\n",
    "    )"
   ]
  },
  {
   "cell_type": "code",
   "execution_count": null,
   "metadata": {},
   "outputs": [],
   "source": [
    "#| export \n",
    "def make_qc_figs(\n",
    "    adata: AnnData,\n",
    "    save_dir: str,\n",
    "    study_name: str,\n",
    ") -> None:\n",
    "    x = 'log10_total_counts'\n",
    "    y = 'n_genes_by_counts'    \n",
    "    \n",
    "    sc.pl.scatter(\n",
    "        adata, x=x, y=y, color=PCT_COUNTS_MITO, \n",
    "        save=make_qc_fig_filename(\n",
    "            save_dir, study_name, x, y, 'mitopct'\n",
    "        )        \n",
    "    )\n",
    "    sc.pl.scatter(\n",
    "        adata, x=x, y=y, color=PCT_COUNTS_RIBO, \n",
    "        save=make_qc_fig_filename(\n",
    "            save_dir, study_name, x, y, 'ribopcg'\n",
    "        )\n",
    "    )\n",
    "    x = TOTAL_COUNTS\n",
    "    sc.pl.scatter(\n",
    "        adata, x=x, y=y, color=PCT_COUNTS_MITO,\n",
    "        save=make_qc_fig_filename(\n",
    "            save_dir, study_name, x, y, 'mitopct'\n",
    "        ) \n",
    "    )\n",
    "    sc.pl.scatter(\n",
    "        adata, x=x, y=y, color=PCT_COUNTS_RIBO, \n",
    "        save=make_qc_fig_filename(\n",
    "            save_dir, study_name, x, y, 'ribopcg'\n",
    "        )\n",
    "    )\n",
    "    sc.pl.scatter(\n",
    "        adata, x=x, y=y,         \n",
    "        color=\"pct_counts_in_top_50_genes\", \n",
    "        save=make_qc_fig_filename(\n",
    "            save_dir, study_name, x, y, 'top50pct'\n",
    "        )\n",
    "    )\n",
    "\n",
    "    x = PCT_COUNTS_MITO\n",
    "    y = 'pct_counts_in_top_50_genes'\n",
    "    sc.pl.scatter(\n",
    "        adata, x=x, y=y, \n",
    "        color=\"n_genes_by_counts\", \n",
    "        save=make_qc_fig_filename(\n",
    "            save_dir, study_name, x, y, 'ngenes'\n",
    "        )\n",
    "    )\n",
    "    x = PCT_COUNTS_RIBO\n",
    "    sc.pl.scatter(\n",
    "        adata, x=x, y=y,\n",
    "        color=\"n_genes_by_counts\", \n",
    "        save=make_qc_fig_filename(\n",
    "            save_dir, study_name, x, y, 'ngenes'\n",
    "        )\n",
    "    )\n",
    "    sc.pl.scatter(\n",
    "        adata, x=x, y=y,        \n",
    "        color=PCT_COUNTS_MITO, \n",
    "        save=make_qc_fig_filename(\n",
    "            save_dir, study_name, x, y, 'ngenes'\n",
    "        )\n",
    "    )"
   ]
  },
  {
   "cell_type": "code",
   "execution_count": null,
   "metadata": {},
   "outputs": [],
   "source": [
    "#| hide\n",
    "import nbdev; nbdev.nbdev_export()"
   ]
  }
 ],
 "metadata": {
  "kernelspec": {
   "display_name": "python3",
   "language": "python",
   "name": "python3"
  }
 },
 "nbformat": 4,
 "nbformat_minor": 4
}
