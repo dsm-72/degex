{
 "cells": [
  {
   "attachments": {},
   "cell_type": "markdown",
   "metadata": {},
   "source": [
    "# core\n",
    "\n",
    "> Fill in a module description here"
   ]
  },
  {
   "cell_type": "code",
   "execution_count": null,
   "metadata": {},
   "outputs": [],
   "source": [
    "#| default_exp static"
   ]
  },
  {
   "cell_type": "code",
   "execution_count": null,
   "metadata": {},
   "outputs": [],
   "source": [
    "#| hide\n",
    "from nbdev.showdoc import *"
   ]
  },
  {
   "cell_type": "code",
   "execution_count": null,
   "metadata": {},
   "outputs": [],
   "source": [
    "#| export\n",
    "# NOTE: needed for python 3.10 forward compatibility with scanpy as \n",
    "# scanpy uses Iterable which is deprecated in 3.10\n",
    "import collections.abc\n",
    "#hyper needs the four following aliases to be done manually.\n",
    "collections.Iterable = collections.abc.Iterable\n",
    "collections.Mapping = collections.abc.Mapping\n",
    "collections.MutableSet = collections.abc.MutableSet\n",
    "collections.MutableMapping = collections.abc.MutableMapping"
   ]
  },
  {
   "cell_type": "code",
   "execution_count": null,
   "metadata": {},
   "outputs": [],
   "source": [
    "#| export\n",
    "from typing import TypeAlias, Union, Literal"
   ]
  },
  {
   "cell_type": "code",
   "execution_count": null,
   "metadata": {},
   "outputs": [],
   "source": [
    "#| export\n",
    "from iza.static import (\n",
    "    NBKS_DIR, ROOT_DIR, EXPL_DIR, DATA_DIR, RESULTS_DIR, FIGURES_DIR,\n",
    "\n",
    "    GZ, H5, CSV, MTX, TAR, TSV, PY, NPY, NPZ, TXT, JSON, ZIP, IPYNB,\n",
    "\n",
    "    EXT_GZ, EXT_H5, EXT_CSV, EXT_MTX, EXT_TAR, EXT_TSV,EXT_TAR_GZ,\n",
    "    EXT_PY, EXT_NPY, EXT_NPZ, EXT_TXT, EXT_JSON, EXT_ZIP, EXT_IPYNB,\n",
    "\n",
    "    SEED, ITEM, TIME, LABEL, SERIES, SAMPLES, CONDITION, CONDITIONS,\n",
    "\n",
    "    HVG, PCA, UMAP, TSNE, PHATE, MAGIC,\n",
    "    CELL, BARCODE, BARCODES,\n",
    "\n",
    "    ID, MITO, RIBO, GENE, GENE_ID, GENE_IDS, \n",
    "    GENE_SYMBOL, HIGHLY_VARIABLE, ENSEMBL, ENSEMBL_ID,\n",
    "    HUMAN, MOUSE, HUMAN_TF, MOUSE_TF, HUMAN_GENE_SYMBOL, \n",
    "    HUMAN_ENSEMBLE_ID, MOUSE_ENSEMBLE_ID, BATCH, TIMEPOINT,\n",
    "    TOTAL_COUNTS, DOUBLET, DOUBLET_SCORES, PREDICTED_DOUBLETS, \n",
    "    PRENORM, DETECTED, SCALED_NORMALIZED,\n",
    "\n",
    "    COUNTS, PCT, PERCENT, PCT_COUNTS, PCT_COUNTS_MITO, PCT_COUNTS_RIBO,\n",
    "\n",
    "    _, X, X_,\n",
    "    X_PRENORM, X_DETECTED, X_SCALED_NORMALIZED, \n",
    "    X_MAGIC, X_PCA, X_PCA_HVG, X_PHATE, X_PHATE_HVG,\n",
    "\n",
    "    ADATA, MATRIX, FEATURES, SENSITIVITY,\n",
    ")"
   ]
  },
  {
   "cell_type": "code",
   "execution_count": null,
   "metadata": {},
   "outputs": [],
   "source": [
    "#| export\n",
    "\n",
    "HUMAN_TFS = f'{HUMAN.capitalize()}TFs'\n",
    "MOUSE_TFS = f'{MOUSE.capitalize()}TFs'"
   ]
  },
  {
   "cell_type": "code",
   "execution_count": null,
   "metadata": {},
   "outputs": [],
   "source": [
    "#| export \n",
    "VAR_KEY: TypeAlias = Union[\n",
    "    HVG, PCA, UMAP, TSNE, PHATE, MAGIC,\n",
    "    CELL, BARCODE, BARCODES,\n",
    "\n",
    "    ID, MITO, RIBO, GENE, GENE_ID, GENE_IDS, \n",
    "    GENE_SYMBOL, HIGHLY_VARIABLE, ENSEMBL_ID,\n",
    "    HUMAN, MOUSE, HUMAN_TF, MOUSE_TF, HUMAN_GENE_SYMBOL, \n",
    "    HUMAN_ENSEMBLE_ID, MOUSE_ENSEMBLE_ID, \n",
    "    \n",
    "    PRENORM, DETECTED, SCALED_NORMALIZED,\n",
    "\n",
    "    COUNTS, PCT, PERCENT, PCT_COUNTS, PCT_COUNTS_MITO, PCT_COUNTS_RIBO,    \n",
    "    \n",
    "    X_MAGIC, X_PCA, X_PCA_HVG, X_PHATE, X_PHATE_HVG,\n",
    "]\n",
    "\n",
    "OBS_KEY: TypeAlias = Union[\n",
    "    BATCH, TIMEPOINT, TOTAL_COUNTS,\n",
    "    DOUBLET_SCORES, PREDICTED_DOUBLETS\n",
    "]\n",
    "\n",
    "X_KEY: TypeAlias = Union[\n",
    "    X_PRENORM, X_DETECTED,\n",
    "    X_SCALED_NORMALIZED\n",
    "]\n",
    "\n",
    "OBSM_KEY: TypeAlias = Union[\n",
    "    X_MAGIC, X_PCA, X_PCA_HVG,\n",
    "    X_PHATE, X_PHATE_HVG\n",
    "]"
   ]
  },
  {
   "cell_type": "code",
   "execution_count": null,
   "metadata": {},
   "outputs": [],
   "source": [
    "#| hide\n",
    "import nbdev; nbdev.nbdev_export()"
   ]
  }
 ],
 "metadata": {
  "kernelspec": {
   "display_name": "python3",
   "language": "python",
   "name": "python3"
  }
 },
 "nbformat": 4,
 "nbformat_minor": 4
}
