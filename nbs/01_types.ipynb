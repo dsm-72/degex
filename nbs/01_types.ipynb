{
 "cells": [
  {
   "attachments": {},
   "cell_type": "markdown",
   "metadata": {},
   "source": [
    "# types\n",
    "> Fill in description here"
   ]
  },
  {
   "cell_type": "code",
   "execution_count": null,
   "metadata": {},
   "outputs": [],
   "source": [
    "#| default_exp types"
   ]
  },
  {
   "cell_type": "code",
   "execution_count": null,
   "metadata": {},
   "outputs": [],
   "source": [
    "#| hide\n",
    "from nbdev.showdoc import *"
   ]
  },
  {
   "cell_type": "code",
   "execution_count": null,
   "metadata": {},
   "outputs": [],
   "source": [
    "#| export\n",
    "# NOTE: needed for python 3.10 forward compatibility with scanpy as \n",
    "# scanpy uses Iterable which is deprecated in 3.10\n",
    "import collections.abc\n",
    "#hyper needs the four following aliases to be done manually.\n",
    "collections.Iterable = collections.abc.Iterable\n",
    "collections.Mapping = collections.abc.Mapping\n",
    "collections.MutableSet = collections.abc.MutableSet\n",
    "collections.MutableMapping = collections.abc.MutableMapping"
   ]
  },
  {
   "cell_type": "code",
   "execution_count": null,
   "metadata": {},
   "outputs": [],
   "source": [
    "#| export\n",
    "import graphtools as gt\n",
    "from typing import (TypeAlias, Optional, List, Union, get_args)\n",
    "from dataclasses import dataclass, field, KW_ONLY"
   ]
  },
  {
   "cell_type": "code",
   "execution_count": null,
   "metadata": {},
   "outputs": [],
   "source": [
    "#| export\n",
    "from iza.types import (\n",
    "    Series, ndarray, Tensor, \n",
    "    DataFrame, DataFrames, AnnData, AnnDatas,\n",
    "\n",
    "    Numeric, Bool, Boolish, IndexLike, SeriesLike, IterLike, GroupKey,\n",
    "\n",
    "    TrainValidSplit, TrainTestSplit, TrainValidTestSplit,\n",
    "    SplitTuple2, SplitTuple3, SplitAsList, DatasetSplitSpec,\n",
    "\n",
    "    SplitDataset2Idxs, SplitDataset3Idxs, \n",
    "    SplitDataFrames2, SplitDataFrames3, SplitDatasets,\n",
    ")"
   ]
  },
  {
   "cell_type": "code",
   "execution_count": null,
   "metadata": {},
   "outputs": [],
   "source": [
    "#| export\n",
    "from degex.static import (\n",
    "    TOTAL_COUNTS, DOUBLET_SCORES, TOTAL_COUNTS, PCT_COUNTS_MITO, PCT_COUNTS_RIBO, DOUBLET_SCORES\n",
    ")"
   ]
  },
  {
   "cell_type": "code",
   "execution_count": null,
   "metadata": {},
   "outputs": [],
   "source": [
    "#| export\n",
    "# Type Alias for graphtools.Graph\n",
    "Graph: TypeAlias = gt.Graph\n",
    "\n",
    "# Types of cutoffs that can be used in our cutoff function\n",
    "CUTOFF = Union[TOTAL_COUNTS, PCT_COUNTS_MITO, PCT_COUNTS_RIBO, DOUBLET_SCORES]\n",
    "\n",
    "CUTOFF_SHORTHAND_TO_OBS_KEYS = {\n",
    "    'default': TOTAL_COUNTS, # 500 < obs < 10000\n",
    "    'total_counts': TOTAL_COUNTS, # 500 < obs < 10000\n",
    "    'mito': PCT_COUNTS_MITO, # None < obs < 15\n",
    "    'ribo': PCT_COUNTS_RIBO, # None < obs < 15\n",
    "    'doublet': DOUBLET_SCORES, # None < obs < 0.4\n",
    "}\n",
    "\n",
    "#| export\n",
    "def str_to_cutoff(s:str) -> CUTOFF:\n",
    "    return CUTOFF_SHORTHAND_TO_OBS_KEYS.get(s, 'total_counts')\n",
    "    \n",
    "@dataclass\n",
    "class CutoffSpec:\n",
    "    obs_key: Union[CUTOFF, str] = field(default=TOTAL_COUNTS)\n",
    "    lower: Optional[float] = field(default=None)\n",
    "    upper: Optional[float] = field(default=None)\n",
    "\n",
    "    @staticmethod\n",
    "    def str_to_cutoff(s:str) -> CUTOFF:\n",
    "        return str_to_cutoff(s)\n",
    "\n",
    "    @property\n",
    "    def known_cutoffs(self) -> List[str]:\n",
    "        return get_args(CUTOFF)\n",
    "    \n",
    "    @property\n",
    "    def is_valid(self) -> bool:\n",
    "        return self.obs_key is self.known_cutoffs\n",
    "\n",
    "# Type Alias for a list of CutoffSpecification\n",
    "CutoffSpecs: TypeAlias = List[CutoffSpec]"
   ]
  },
  {
   "cell_type": "code",
   "execution_count": null,
   "metadata": {},
   "outputs": [],
   "source": [
    "#| hide\n",
    "import nbdev; nbdev.nbdev_export()"
   ]
  }
 ],
 "metadata": {
  "kernelspec": {
   "display_name": "python3",
   "language": "python",
   "name": "python3"
  }
 },
 "nbformat": 4,
 "nbformat_minor": 2
}
