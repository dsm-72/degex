{
 "cells": [
  {
   "attachments": {},
   "cell_type": "markdown",
   "metadata": {},
   "source": [
    "# utils\n",
    "\n",
    "> utility functions for `adata`, `plots`, and `preprocessing`"
   ]
  },
  {
   "cell_type": "code",
   "execution_count": null,
   "metadata": {},
   "outputs": [],
   "source": [
    "#| default_exp utils"
   ]
  },
  {
   "cell_type": "code",
   "execution_count": null,
   "metadata": {},
   "outputs": [],
   "source": [
    "#| hide\n",
    "from nbdev.showdoc import *"
   ]
  },
  {
   "cell_type": "code",
   "execution_count": null,
   "metadata": {},
   "outputs": [],
   "source": [
    "#| export\n",
    "# NOTE: needed for python 3.10 forward compatibility with scanpy as \n",
    "# scanpy uses Iterable which is deprecated in 3.10\n",
    "import collections.abc\n",
    "#hyper needs the four following aliases to be done manually.\n",
    "collections.Iterable = collections.abc.Iterable\n",
    "collections.Mapping = collections.abc.Mapping\n",
    "collections.MutableSet = collections.abc.MutableSet\n",
    "collections.MutableMapping = collections.abc.MutableMapping"
   ]
  },
  {
   "cell_type": "code",
   "execution_count": null,
   "metadata": {},
   "outputs": [],
   "source": [
    "#| export\n",
    "import os"
   ]
  },
  {
   "cell_type": "code",
   "execution_count": null,
   "metadata": {},
   "outputs": [],
   "source": [
    "#| export\n",
    "from degex.types import AnnData, AnnDatas, ndarray"
   ]
  },
  {
   "cell_type": "code",
   "execution_count": null,
   "metadata": {},
   "outputs": [],
   "source": [
    "#| export\n",
    "def remove_non_numeric_from_str(s:str) -> str:\n",
    "    '''\n",
    "    Removes non-numbers from string.\n",
    "    Utility function used in `time_to_num_from_idx_to_time`.\n",
    "    '''\n",
    "    s = ''.join(filter(str.isdigit, s))\n",
    "    return s\n",
    "\n",
    "def time_to_num_from_idx_to_time(idx_to_time:dict) -> dict:\n",
    "    '''\n",
    "    Examples:\n",
    "        idx_to_time = {\n",
    "            '0': '12hr', \n",
    "            '1': '18hr', \n",
    "            '2': '24hr'\n",
    "        }\n",
    "\n",
    "        gets converted into\n",
    "\n",
    "        time_to_num = {\n",
    "            '12hr': '12', \n",
    "            '18hr': '18', \n",
    "            '24hr': '24'\n",
    "        }\n",
    "    '''\n",
    "    time_to_num = {\n",
    "        v: remove_non_numeric_from_str(v)\n",
    "        for v in idx_to_time.values()\n",
    "    }\n",
    "    return time_to_num\n",
    "\n",
    "def make_qc_fig_filename(\n",
    "    save_dir:str,  study_name:str,\n",
    "    x:str, y:str, postfix:str=''\n",
    ") -> str:     \n",
    "    '''\n",
    "    Utility function used in make_qc_figs to name files.\n",
    "    Output files are in the form of:\n",
    "    `{save_dir}/.QC_{study_name}_{x}_{y}_{postfix}.png`\n",
    "    '''\n",
    "    if postfix:\n",
    "        postfix = f'_{postfix}'\n",
    "    return os.path.join(\n",
    "         save_dir,\n",
    "         f'.QC_{study_name}_{x}_{y}{postfix}.png' \n",
    "    )\n",
    "\n",
    "\n",
    "def arr_toarray(arr:ndarray) -> ndarray:\n",
    "    return arr.toarray() if hasattr(arr, 'toarray') else arr\n",
    "\n",
    "def adata_X_toarray(adata:AnnData) -> ndarray:\n",
    "    return arr_toarray(adata.X)    "
   ]
  },
  {
   "cell_type": "code",
   "execution_count": null,
   "metadata": {},
   "outputs": [],
   "source": [
    "#| hide\n",
    "import nbdev; nbdev.nbdev_export()"
   ]
  }
 ],
 "metadata": {
  "kernelspec": {
   "display_name": "python3",
   "language": "python",
   "name": "python3"
  }
 },
 "nbformat": 4,
 "nbformat_minor": 4
}
