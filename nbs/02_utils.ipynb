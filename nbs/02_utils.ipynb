{
 "cells": [
  {
   "attachments": {},
   "cell_type": "markdown",
   "metadata": {},
   "source": [
    "# utils\n",
    "\n",
    "> utility functions for `adata`, `plots`, and `preprocessing`"
   ]
  },
  {
   "cell_type": "code",
   "execution_count": null,
   "metadata": {},
   "outputs": [],
   "source": [
    "#| default_exp utils"
   ]
  },
  {
   "cell_type": "code",
   "execution_count": null,
   "metadata": {},
   "outputs": [],
   "source": [
    "#| hide\n",
    "from nbdev.showdoc import *"
   ]
  },
  {
   "cell_type": "code",
   "execution_count": null,
   "metadata": {},
   "outputs": [],
   "source": [
    "#| export\n",
    "# NOTE: needed for python 3.10 forward compatibility with scanpy as \n",
    "# scanpy uses Iterable which is deprecated in 3.10\n",
    "import collections.abc\n",
    "#hyper needs the four following aliases to be done manually.\n",
    "collections.Iterable = collections.abc.Iterable\n",
    "collections.Mapping = collections.abc.Mapping\n",
    "collections.MutableSet = collections.abc.MutableSet\n",
    "collections.MutableMapping = collections.abc.MutableMapping"
   ]
  },
  {
   "cell_type": "code",
   "execution_count": null,
   "metadata": {},
   "outputs": [],
   "source": [
    "#| export\n",
    "from degex.types import (\n",
    "    AnnData, AnnDatas, Graph, SeriesLike,\n",
    "    VAR_HUMAN_TF, VAR_MOUSE_TF,\n",
    "    VAR_HUMAN_ENSEMBLE_ID, VAR_MOUSE_ENSEMBLE_ID,\n",
    "    LAYER_PRENORM, LAYER_DETECTED,\n",
    "    LAYER_SCALED_NORMALIZED, EMB_MAGIC,\n",
    "    EMB_PCA, EMB_PCA_HVG,\n",
    "    EMB_PHATE, EMB_PHATE_HVG,\n",
    "    CUTOFF_KIND, CUTOFF_SHORTHAND_TO_OBS_KEYS,\n",
    "    CutoffSpecification, CutoffSpecifications,\n",
    "    VAR_GENE_SYMBOL, VAR_GENE_IDS,\n",
    "    OBS_DOUBLET_SCORES, OBS_PREDICTED_DOUBLETS,\n",
    "    VAR_MITO\n",
    ")"
   ]
  },
  {
   "cell_type": "code",
   "execution_count": null,
   "metadata": {},
   "outputs": [],
   "source": [
    "#| export\n",
    "import os\n",
    "import copy\n",
    "\n",
    "from typing import TypeAlias, List, Sequence, Tuple\n",
    "\n",
    "import anndata as ad\n",
    "import numpy as np\n",
    "import pandas as pd\n",
    "import scanpy as sc\n",
    "import scrublet as scr\n",
    "import scipy\n",
    "import graphtools as gt\n",
    "import phate\n",
    "import magic"
   ]
  },
  {
   "cell_type": "code",
   "execution_count": null,
   "metadata": {},
   "outputs": [],
   "source": [
    "#| export\n",
    "def remove_non_numeric_from_str(s:str) -> str:\n",
    "    '''\n",
    "    Removes non-numbers from string.\n",
    "    Utility function used in `time_to_num_from_idx_to_time`.\n",
    "    '''\n",
    "    return str(filter(str.isdigit, s))\n",
    "\n",
    "def time_to_num_from_idx_to_time(idx_to_time:dict) -> dict:\n",
    "    '''\n",
    "    Examples:\n",
    "        idx_to_time = {\n",
    "            '0': '12hr', \n",
    "            '1': '18hr', \n",
    "            '2': '24hr'\n",
    "        }\n",
    "\n",
    "        gets converted into\n",
    "\n",
    "        time_to_num = {\n",
    "            '12hr': '12', \n",
    "            '18hr': '18', \n",
    "            '24hr': '24'\n",
    "        }\n",
    "    '''\n",
    "    time_to_num = {\n",
    "        v: remove_non_numeric_from_str(v)\n",
    "        for v in idx_to_time.values()\n",
    "    }\n",
    "    return time_to_num\n",
    "\n",
    "def make_qc_fig_filename(\n",
    "    save_dir:str, \n",
    "    study_name:str,\n",
    "    x:str, y:str, postfix:str=''\n",
    ") -> str:     \n",
    "    '''\n",
    "    Utility function used in make_qc_figs to name files.\n",
    "    Output files are in the form of:\n",
    "    `{save_dir}/.QC_{study_name}_{x}_{y}_{postfix}.png`\n",
    "    '''\n",
    "    if postfix:\n",
    "        postfix = f'_{postfix}'\n",
    "    return os.path.join(\n",
    "         save_dir,\n",
    "         f'.QC_{study_name}_{x}_{y}{postfix}.png' \n",
    "    )\n"
   ]
  },
  {
   "cell_type": "code",
   "execution_count": null,
   "metadata": {},
   "outputs": [],
   "source": [
    "#| hide\n",
    "import nbdev; nbdev.nbdev_export()"
   ]
  }
 ],
 "metadata": {
  "kernelspec": {
   "display_name": "python3",
   "language": "python",
   "name": "python3"
  }
 },
 "nbformat": 4,
 "nbformat_minor": 4
}
