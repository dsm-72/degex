{
 "cells": [
  {
   "cell_type": "code",
   "execution_count": null,
   "metadata": {},
   "outputs": [],
   "source": [
    "#| hide\n",
    "from degex.core import *\n",
    "from degex.types import *\n",
    "from degex.utils import *\n",
    "from degex.adata import *\n",
    "from degex.plots import *\n",
    "from degex.preprocessing import *"
   ]
  },
  {
   "cell_type": "markdown",
   "metadata": {},
   "source": [
    "# spot-mark-gene\n",
    "\n",
    "> spot marker genes in data"
   ]
  }
 ],
 "metadata": {
  "kernelspec": {
   "display_name": "python3",
   "language": "python",
   "name": "python3"
  }
 },
 "nbformat": 4,
 "nbformat_minor": 4
}
