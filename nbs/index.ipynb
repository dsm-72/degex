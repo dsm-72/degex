{
 "cells": [
  {
   "cell_type": "code",
   "execution_count": null,
   "metadata": {},
   "outputs": [],
   "source": [
    "#| hide\n",
    "from degex.core import *\n",
    "from degex.types import *\n",
    "from degex.utils import *\n",
    "from degex.adata import *\n",
    "from degex.plots import *\n",
    "from degex.preprocessing import *"
   ]
  },
  {
   "attachments": {},
   "cell_type": "markdown",
   "metadata": {},
   "source": [
    "# DEtect Gene EXpression (degex)\n",
    "\n",
    "> `degex` is a library for detecting and spotting markers genes from gene expression in data"
   ]
  }
 ],
 "metadata": {
  "kernelspec": {
   "display_name": "python3",
   "language": "python",
   "name": "python3"
  }
 },
 "nbformat": 4,
 "nbformat_minor": 4
}
